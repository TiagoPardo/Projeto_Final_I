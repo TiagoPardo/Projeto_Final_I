{
 "cells": [
  {
   "cell_type": "markdown",
   "id": "a1053c4c",
   "metadata": {},
   "source": [
    "# Projeto Integrador"
   ]
  },
  {
   "cell_type": "markdown",
   "id": "8b5f3398",
   "metadata": {},
   "source": [
    "O primeiro passo da etapa de pré-processamento dos dados é importar as bibliotecas necessárias para essa tarefa."
   ]
  },
  {
   "cell_type": "code",
   "execution_count": 3,
   "id": "77846fe0",
   "metadata": {},
   "outputs": [],
   "source": [
    "import pandas as pd\n",
    "import numpy as np\n",
    "import matplotlib.pyplot as plt\n",
    "import seaborn as sns\n",
    "from matplotlib import colors\n",
    "from matplotlib.ticker import PercentFormatter\n",
    "from ydata_profiling import ProfileReport\n",
    "import hvplot.pandas\n",
    "import missingno as msno\n",
    "import altair as alt"
   ]
  },
  {
   "cell_type": "markdown",
   "id": "166bfbc5",
   "metadata": {},
   "source": [
    "Importando o dataset do projeto:"
   ]
  },
  {
   "cell_type": "code",
   "execution_count": 4,
   "id": "bdcdd151",
   "metadata": {},
   "outputs": [],
   "source": [
    "df = pd.read_csv('Bases/cs_bisnode_panel.csv')"
   ]
  },
  {
   "cell_type": "markdown",
   "id": "af3bd9cf",
   "metadata": {},
   "source": [
    "Retirando as colunas com alto indice de missing data, conforme orientado nas instruções."
   ]
  },
  {
   "cell_type": "code",
   "execution_count": 5,
   "id": "bd6dda95",
   "metadata": {},
   "outputs": [],
   "source": [
    "df = df.drop(['COGS', 'finished_prod', 'net_dom_sales', 'net_exp_sales', 'wages', 'D'], axis=1)"
   ]
  },
  {
   "cell_type": "markdown",
   "id": "75658aad",
   "metadata": {},
   "source": [
    "Removendo dos dados os registros do ano de 2016"
   ]
  },
  {
   "cell_type": "code",
   "execution_count": 6,
   "id": "6447d5ab",
   "metadata": {},
   "outputs": [],
   "source": [
    "df = df[df['year']!=2016]"
   ]
  },
  {
   "cell_type": "markdown",
   "id": "b48be466",
   "metadata": {},
   "source": [
    "Verificando o tipo de dado de cada variável do dataset:"
   ]
  },
  {
   "cell_type": "code",
   "execution_count": null,
   "id": "7d89b63b",
   "metadata": {},
   "outputs": [
    {
     "name": "stdout",
     "output_type": "stream",
     "text": [
      "<class 'pandas.core.frame.DataFrame'>\n",
      "Int64Index: 278086 entries, 0 to 287828\n",
      "Data columns (total 42 columns):\n",
      " #   Column                Non-Null Count   Dtype  \n",
      "---  ------                --------------   -----  \n",
      " 0   comp_id               278086 non-null  float64\n",
      " 1   begin                 278086 non-null  object \n",
      " 2   end                   278086 non-null  object \n",
      " 3   amort                 270070 non-null  float64\n",
      " 4   curr_assets           277955 non-null  float64\n",
      " 5   curr_liab             277955 non-null  float64\n",
      " 6   extra_exp             269300 non-null  float64\n",
      " 7   extra_inc             269300 non-null  float64\n",
      " 8   extra_profit_loss     270626 non-null  float64\n",
      " 9   fixed_assets          277955 non-null  float64\n",
      " 10  inc_bef_tax           270649 non-null  float64\n",
      " 11  intang_assets         277946 non-null  float64\n",
      " 12  inventories           277955 non-null  float64\n",
      " 13  liq_assets            277955 non-null  float64\n",
      " 14  material_exp          270070 non-null  float64\n",
      " 15  personnel_exp         270070 non-null  float64\n",
      " 16  profit_loss_year      277945 non-null  float64\n",
      " 17  sales                 270649 non-null  float64\n",
      " 18  share_eq              277955 non-null  float64\n",
      " 19  subscribed_cap        277955 non-null  float64\n",
      " 20  tang_assets           276616 non-null  float64\n",
      " 21  balsheet_flag         278086 non-null  int64  \n",
      " 22  balsheet_length       278086 non-null  int64  \n",
      " 23  balsheet_notfullyear  278086 non-null  int64  \n",
      " 24  year                  278086 non-null  int64  \n",
      " 25  founded_year          221908 non-null  float64\n",
      " 26  exit_year             38858 non-null   float64\n",
      " 27  ceo_count             221938 non-null  float64\n",
      " 28  foreign               221938 non-null  float64\n",
      " 29  female                221938 non-null  float64\n",
      " 30  birth_year            167529 non-null  float64\n",
      " 31  inoffice_days         221938 non-null  float64\n",
      " 32  gender                221938 non-null  object \n",
      " 33  origin                221938 non-null  object \n",
      " 34  nace_main             277048 non-null  float64\n",
      " 35  ind2                  277048 non-null  float64\n",
      " 36  ind                   268614 non-null  float64\n",
      " 37  urban_m               278086 non-null  int64  \n",
      " 38  region_m              277286 non-null  object \n",
      " 39  founded_date          278035 non-null  object \n",
      " 40  exit_date             56178 non-null   object \n",
      " 41  labor_avg             131603 non-null  float64\n",
      "dtypes: float64(30), int64(5), object(7)\n",
      "memory usage: 91.2+ MB\n"
     ]
    }
   ],
   "source": [
    "df.info()"
   ]
  },
  {
   "cell_type": "code",
   "execution_count": null,
   "id": "eb0400db",
   "metadata": {},
   "outputs": [],
   "source": [
    "df.T"
   ]
  },
  {
   "cell_type": "markdown",
   "id": "aefa59d9",
   "metadata": {},
   "source": [
    "Vamos converter os tipos de dados algumas colunas para que estas esteja coerentes com as descrição das variáveis, a saber:\n",
    "\n",
    "- comp_id: como é a identificação da empresa, deve ser considerada uma string (object)\n",
    "- begin: converter para data\n",
    "- end: converter para data\n",
    "- founded_date: converter para data\n",
    "- exit_date: converter para data\n",
    "- nace_main: converter para string (object)\n",
    "- ind2: converter para string (object)\n",
    "- ind: converter para string (object)"
   ]
  },
  {
   "cell_type": "code",
   "execution_count": null,
   "id": "377b93df",
   "metadata": {},
   "outputs": [],
   "source": [
    "df['comp_id'] = df['comp_id'].astype('object')\n",
    "df['begin'] = pd.to_datetime(df['begin'],format=\"%Y-%m-%d\", errors='coerce')\n",
    "df['end'] = pd.to_datetime(df['end'],format=\"%Y-%m-%d\", errors='coerce')\n",
    "df['founded_date'] = pd.to_datetime(df['founded_date'],format=\"%Y-%m-%d\", errors='coerce')\n",
    "df['exit_date'] = pd.to_datetime(df['exit_date'],format=\"%Y-%m-%d\", errors='coerce')\n",
    "df['nace_main'] = df['nace_main'].astype('object')\n",
    "df['ind2'] = df['ind2'].astype('object')\n",
    "df['ind'] = df['ind'].astype('object')"
   ]
  },
  {
   "cell_type": "code",
   "execution_count": null,
   "id": "db5a685f",
   "metadata": {},
   "outputs": [],
   "source": [
    "#Verificando se a conversão funcionou:\n",
    "df.info()"
   ]
  },
  {
   "cell_type": "markdown",
   "id": "ae8e4cb8",
   "metadata": {},
   "source": [
    "O próxima passo é verificar a quantidade de missing values em cada coluna:"
   ]
  },
  {
   "cell_type": "code",
   "execution_count": null,
   "id": "729709d6",
   "metadata": {},
   "outputs": [],
   "source": [
    "msno.bar(df)"
   ]
  },
  {
   "cell_type": "code",
   "execution_count": null,
   "id": "fb4f6c5d",
   "metadata": {},
   "outputs": [],
   "source": [
    "missing_values = df.isna().sum()/len(df)\n",
    "missing_values = pd.DataFrame({ 'Percentual_Valores_Faltantes': missing_values}).reset_index()\n",
    "missing_values[missing_values['Percentual_Valores_Faltantes'] > 0]"
   ]
  },
  {
   "cell_type": "markdown",
   "id": "9231cf6f-fcb3-471c-90f0-56d114ddab79",
   "metadata": {},
   "source": [
    "# Tratar os missing values de Sales\n",
    "\n",
    "Ver a distribuição por ano dos missing values\n",
    "\n",
    "------------------------------------------"
   ]
  },
  {
   "cell_type": "markdown",
   "id": "b7de3947",
   "metadata": {},
   "source": [
    "O próximo passo é ver como esses missing values serão tratados.\n",
    "\n",
    "A variável \"labor_avg\" (número médio de empregados no ano) possui mais da metade dos dados faltantes. Como há um variável chamada \"personnel_exp\", que representa os gastos com pessoal, vamos verificar se há algum correlação entre essas duas variáveis por meio de um gráfico de dispersão:"
   ]
  },
  {
   "cell_type": "code",
   "execution_count": null,
   "id": "4ff2906f",
   "metadata": {},
   "outputs": [],
   "source": [
    "sns.lmplot(x=\"personnel_exp\", y=\"labor_avg\", data=df)\n",
    "plt.xlabel('Custo com Pessoal')\n",
    "plt.ylabel('Média de Empregados por Ano')\n",
    "plt.title('Análise de Relação entre Custo com Pessoal e Média de Empregados')\n",
    "plt.show()"
   ]
  },
  {
   "cell_type": "markdown",
   "id": "b330eacf",
   "metadata": {},
   "source": [
    "Como há uma correlação não muito forte e com pontos fora do intervalo de confiança da reta do modelo de regressão linear para essa duas variáveis, \"labor_avg\" será mantida no dataset. Assim, serão preenchidos os dados faltantes com a média e avaliado durante a fase de modelagem se essa variável contribui ou prejudica o desempenho dos modelos de predição."
   ]
  },
  {
   "cell_type": "markdown",
   "id": "07f77b7d",
   "metadata": {},
   "source": [
    "Para as variáveis que são categóricas e que tem missing values e podem a priori agregar pouco ao modelo ou até mesmo criar viés, uma vez que não há evidência científica que gênero ou origem influenciam na gestão de uma empresa, vamos excluí-las, a saber:\n",
    "\n",
    "- gender\n",
    "- origin\n",
    "- nace_main\n",
    "- ind2\n",
    "- ind\n",
    "- foreign\n",
    "- female\n",
    "\n",
    "Para as colunas com a data e ano de saída (exit_date e exit_year), há muitos valores faltantes e a coluna 'in_operation', que indicará se a empresa está em operação e será calcula posteriormente, já contém essa informação. Assim, vamos excluí-la também."
   ]
  },
  {
   "cell_type": "code",
   "execution_count": null,
   "id": "db3b9b2d",
   "metadata": {},
   "outputs": [],
   "source": [
    "df = df.drop(['gender', 'origin', 'nace_main', 'ind2', 'ind', 'exit_date', 'exit_year', 'foreign', 'female'], axis=1)"
   ]
  },
  {
   "cell_type": "markdown",
   "id": "473325a9",
   "metadata": {},
   "source": [
    "Para as colunas numéricas, vamos substituir os valores faltantes pela média do valor da variável calculado por empresa, e não a média global da variável, visando manter a distribuição dos dados no nível da empresa. Caso a empresa não possua valores da variável em questão, vamos substituir por ZERO, uma vez que não há informações suficiente para definir esses valores sem causar um grande correlação com outras variáveis.\n",
    "\n",
    "O primeiro passo é criar um dataframe com os valores das médias por empresa."
   ]
  },
  {
   "cell_type": "code",
   "execution_count": null,
   "id": "f7cca377",
   "metadata": {},
   "outputs": [],
   "source": [
    "#Criando dataframe com a média das variáveis numéricas por empresa.\n",
    "media_variavel = df.groupby('comp_id').agg({'material_exp': 'mean', 'personnel_exp': 'mean',\n",
    "                                             'profit_loss_year': 'mean', 'sales': 'mean', 'share_eq': 'mean' , 'labor_avg': 'mean'})\n",
    "\n",
    "#Caso haja algum empresa em valor em quaisquer anos, consideraremos ZERO o valor da variável:\n",
    "media_variavel = media_variavel.fillna(0)\n",
    "\n",
    "#Ajustando o nome das colunas para facilitar o merge com o dataframe principal (incluindo 'Mean_' no início de todas, exceto 'comp_id'\n",
    "nome_coluna = []\n",
    "for coluna in list(media_variavel.columns):\n",
    "    nome_coluna.append('Mean_'+coluna)\n",
    "media_variavel.columns = nome_coluna\n",
    "media_variavel = media_variavel.reset_index()\n",
    "media_variavel.head()"
   ]
  },
  {
   "cell_type": "markdown",
   "id": "508d24f0",
   "metadata": {},
   "source": [
    "A partir do dataframe com as médias das variáveis por empresa, vamos preencher os valores faltantes das colunas numéricas do dataframe principal com essas médias."
   ]
  },
  {
   "cell_type": "code",
   "execution_count": null,
   "id": "f1d77f57",
   "metadata": {},
   "outputs": [],
   "source": [
    "#Vamos usar uma lista com os nomes das colunas para iterar e facilitar o preenchimento\n",
    "for coluna in list(media_variavel.columns)[1:]: \n",
    "    # mescla o df principal com o df com médias (o nome da coluna desse df começa com Mean)\n",
    "    df = pd.merge(df, media_variavel[['comp_id',coluna]], how = 'left', on = ['comp_id'])\n",
    "    #preenche os dados faltantes com a média por empresa da variável\n",
    "    df[coluna[5:]] = df[[coluna[5:],coluna]].apply(lambda x : x[coluna] if pd.isna(x[coluna[5:]]) else x[coluna[5:]], axis = 1)\n",
    "    #Remove a coluna com o nome Mean\n",
    "    df = df.drop([coluna], axis=1)\n",
    "\n",
    "# Verifica se o código acima foi efetivo\n",
    "msno.bar(df)"
   ]
  },
  {
   "cell_type": "markdown",
   "id": "e47c6b99",
   "metadata": {},
   "source": [
    "Com os variáveis numéricas sem dados faltantes, restam as das variáveis categóricas, datas e binárias. Para as variáveis \"founded_date\", vamos usar a moda (valor mais frequente), pois os valores faltantes nessa coluna representam menos de 0,1% e se trata de uma variável categórica."
   ]
  },
  {
   "cell_type": "code",
   "execution_count": null,
   "id": "b23f4873",
   "metadata": {},
   "outputs": [],
   "source": [
    "df[\"founded_date\"].fillna(df[\"founded_date\"].mode()[0], inplace = True)\n",
    "#Verificando se todas as linhas dessa coluna foram preenchidas.\n",
    "df[\"founded_date\"].isnull().sum()"
   ]
  },
  {
   "cell_type": "markdown",
   "id": "37d3418e",
   "metadata": {},
   "source": [
    "Vamos analisar a coluna 'region_m'e os seus dados faltantes:"
   ]
  },
  {
   "cell_type": "code",
   "execution_count": null,
   "id": "e65fec33",
   "metadata": {},
   "outputs": [],
   "source": [
    "df['region_m'].value_counts()"
   ]
  },
  {
   "cell_type": "code",
   "execution_count": null,
   "id": "68bb072b",
   "metadata": {},
   "outputs": [],
   "source": [
    "df['region_m'].describe()"
   ]
  },
  {
   "cell_type": "code",
   "execution_count": null,
   "id": "c717b6c0",
   "metadata": {},
   "outputs": [],
   "source": [
    "# Missing values\n",
    "print(df['region_m'].isna().sum())\n",
    "print(df['region_m'].isna().sum()/len(df))"
   ]
  },
  {
   "cell_type": "markdown",
   "id": "f1f8511b",
   "metadata": {},
   "source": [
    "Os dados faltantes da coluna 'region_m' representa menos de 0,3% dos valores da coluna (800 obseervações). Assim como a variável \"founded_date\", vamos usar a moda nessa colunba:"
   ]
  },
  {
   "cell_type": "code",
   "execution_count": null,
   "id": "56497e91",
   "metadata": {},
   "outputs": [],
   "source": [
    "df['region_m'].fillna(df['region_m'].mode()[0], inplace = True)\n",
    "#Verificando se todas as linhas dessa coluna foram preenchidas.\n",
    "df['region_m'].isnull().sum()"
   ]
  },
  {
   "cell_type": "markdown",
   "id": "c05a69cb",
   "metadata": {},
   "source": [
    "O passo seguinte é criar uma nova variável que verifica se a empresa estava operando ou não. O critério é verificar se a empresa teve faturamento X+2. Essa será a variável que deverá ser predita (variável resposta).\n",
    "\n",
    "Como iremos criar uma coluna para verificar se a empresa estava operando ou não a partir dos dados da coluna 'sales', verificaremos a qualidade das informações dessa última coluna:"
   ]
  },
  {
   "cell_type": "code",
   "execution_count": null,
   "id": "0dfc6032",
   "metadata": {},
   "outputs": [],
   "source": [
    "#Vamos dividir a coluna de 'sales' por 1 milhão para facilitar a visualização\n",
    "df_MM = df['sales']/1000000\n",
    "df_MM.describe()"
   ]
  },
  {
   "cell_type": "markdown",
   "id": "e0bd7b17",
   "metadata": {},
   "source": [
    "Esse coluna possui valores negativos, o que não faz sentido para faturamento em 1 ano. Nesse caso, consideraremos os valores negativos como ZERO."
   ]
  },
  {
   "cell_type": "code",
   "execution_count": null,
   "id": "7c3dd84f",
   "metadata": {},
   "outputs": [],
   "source": [
    "df['sales'] = df['sales'].apply(lambda x: 0 if x < 0 else x)"
   ]
  },
  {
   "cell_type": "markdown",
   "id": "a01c1424",
   "metadata": {},
   "source": [
    "Verificando se o código acima funcionou:"
   ]
  },
  {
   "cell_type": "code",
   "execution_count": null,
   "id": "4934ba25",
   "metadata": {
    "scrolled": true
   },
   "outputs": [],
   "source": [
    "df_MM = df['sales']/1000000\n",
    "df_MM.describe()"
   ]
  },
  {
   "cell_type": "markdown",
   "id": "dcada602",
   "metadata": {},
   "source": [
    "Como o objetivo é predizer se uma empresa deicará de operar em até dois anos, vamos criar a partir dos dados da coluna 'sales' uma nova coluna para verificar se a empresa estava operando ou não no final do período, que será a variável resposta dos modelos. O primeiro passo é criar um dataframe somente com os valores de faturamento por ano e empresa. Como o objetivo é ver se a empresa estava operando ao final do período e vamos utilizar os dados de 2012 para estimar os modelos de predição, os dois últimos anos devem ser zero. Vamos considerar para a análise somente esses dois anos."
   ]
  },
  {
   "cell_type": "code",
   "execution_count": null,
   "id": "4c1c1f74",
   "metadata": {},
   "outputs": [],
   "source": [
    "#Criando um um dataframe somente com os anos de 2014 e 2015\n",
    "df_sales = df[(df['year']==2014) & (df['year']==2015)]\n",
    "#criando um dataframe que soma os dados de faturamento cada empresa nesses dois anos.\n",
    "df_sales = pd.DataFrame(df.groupby([\"comp_id\"])['sales'].sum()).reset_index()\n",
    "df_sales"
   ]
  },
  {
   "cell_type": "markdown",
   "id": "603e1625",
   "metadata": {},
   "source": [
    "Assim, as empresas que tiveram faturamento zero em 2014 e 2015 deve ser consideradas como fora de operação. Vamos criar a coluna com a variável resposta com essas informações:"
   ]
  },
  {
   "cell_type": "code",
   "execution_count": null,
   "id": "a324e766",
   "metadata": {
    "scrolled": true
   },
   "outputs": [],
   "source": [
    "df_sales['will_close'] = df_sales['sales'].apply(lambda x: 1 if x == 0 else 0)\n",
    "df_sales"
   ]
  },
  {
   "cell_type": "markdown",
   "id": "0e624d73",
   "metadata": {},
   "source": [
    "Vamos contar quantas empresas estavam operando:"
   ]
  },
  {
   "cell_type": "code",
   "execution_count": null,
   "id": "b94d2ddb",
   "metadata": {},
   "outputs": [],
   "source": [
    "df_sales['will_close'].value_counts()/df_sales['will_close'].count()*100"
   ]
  },
  {
   "cell_type": "markdown",
   "id": "df735c7b",
   "metadata": {},
   "source": [
    "Cerca de 8,84% das empresas não estão mais operando."
   ]
  },
  {
   "cell_type": "markdown",
   "id": "0564546a",
   "metadata": {},
   "source": [
    "Vamos juntar os dados da coluna que diz se a empresa estava em operação ('in_operation') ao dataframe inicial:"
   ]
  },
  {
   "cell_type": "code",
   "execution_count": null,
   "id": "2e86bcb8",
   "metadata": {},
   "outputs": [],
   "source": [
    "df = pd.merge(df, df_sales[['comp_id','will_close']], how = 'left', on = ['comp_id'])\n",
    "df.info()"
   ]
  },
  {
   "cell_type": "markdown",
   "id": "7f571248",
   "metadata": {},
   "source": [
    "O próximo passo é criar uma coluna com a idade da empresa:"
   ]
  },
  {
   "cell_type": "code",
   "execution_count": null,
   "id": "b87a15cc",
   "metadata": {},
   "outputs": [],
   "source": [
    "# Criando a coluna com a idade da empresa\n",
    "df['company_age'] = df['year'] - df['founded_year']"
   ]
  },
  {
   "cell_type": "markdown",
   "id": "ef56a110",
   "metadata": {},
   "source": [
    "Agora, vamos filtrar os dados de 2012 e manter no dataframe somente as empresas com faturamento abaixo de 10 milhões e acima de 1000 euros."
   ]
  },
  {
   "cell_type": "code",
   "execution_count": null,
   "id": "ad09a75e",
   "metadata": {},
   "outputs": [],
   "source": [
    "#Filtro para o ano de 2012\n",
    "df = df[df['year']==2012]"
   ]
  },
  {
   "cell_type": "code",
   "execution_count": null,
   "id": "9021b3d3",
   "metadata": {},
   "outputs": [],
   "source": [
    "# Filtro para as empresas com faturamento abaixo de 10 milhões e acima de 1000 euros\n",
    "df = df[(df['sales']<10000000) | (df['sales']>1000)]"
   ]
  },
  {
   "cell_type": "code",
   "execution_count": null,
   "id": "7dc17360",
   "metadata": {
    "scrolled": true
   },
   "outputs": [],
   "source": [
    "df.head()"
   ]
  },
  {
   "cell_type": "markdown",
   "id": "5ffc01de",
   "metadata": {},
   "source": [
    "O próximo passo é criar a coluna por porte de faturamento. A União Europeia define como micro empresas aqueles com faturamento até 2 milhões de euros por ano, enquanto as pequenas e as médias tem que ter uma receita de até 10 milhões e 50 milhões, respectivamente. Como foi retirada da base os faturamentos acima de 10 milhões de euros, esse corte cria somente dois grupos. Assim, vamos analisar a distribuição de faturamento no dataset em questão."
   ]
  },
  {
   "cell_type": "code",
   "execution_count": null,
   "id": "1c9ff577",
   "metadata": {},
   "outputs": [],
   "source": [
    "#Vamos usar a pandas series criada com o faturamento na escala de milhão\n",
    "sns.histplot(data=df_MM, bins=100)\n",
    "plt.xlabel('Faturamento em Milhão de Euros')\n",
    "plt.ylabel('Contagem')\n",
    "plt.title('Distribuição de Faturamento - Milhão de Euros')\n",
    "plt.show()"
   ]
  },
  {
   "cell_type": "markdown",
   "id": "9b3cacec-c967-42e1-9e23-700c54c6bb3c",
   "metadata": {},
   "source": [
    "De acordo com o histograma acima, que foi dividido em grupos de 1 milhão de euros, a grande maioria das empresas têm faturamento abaixo de 1 milhão em 2012 (variável assimétrica). Assim, para que na modelagem não haja grupos com baixo número de observações, vamos dividir em 2 grupos. Para tal, será aplicado o seguinte critério:\n",
    "\n",
    "- pequena empresa: faturamento menor do que 50 mil\n",
    "- média e grande empresa: faturamento acim 50 mil"
   ]
  },
  {
   "cell_type": "code",
   "execution_count": null,
   "id": "098156ab",
   "metadata": {},
   "outputs": [],
   "source": [
    "# Criando a coluna com o porte da empresa por faturamento\n",
    "df['company_size'] = df['sales'].apply(lambda x: 'small' if x <= 50000 else 'large_medium')\n",
    "df['company_size'].value_counts()"
   ]
  },
  {
   "cell_type": "markdown",
   "id": "74de4ea9-7670-4242-8b5b-1d10946394ec",
   "metadata": {},
   "source": [
    "Vamos plotar os histogramas por porte de empresa:"
   ]
  },
  {
   "cell_type": "code",
   "execution_count": null,
   "id": "d1c91106-ab36-4b35-a69a-2a67b1b07282",
   "metadata": {},
   "outputs": [],
   "source": [
    "# Criar uma figura com dois subplots (quadrados diferentes)\n",
    "fig, axes = plt.subplots(1, 2, figsize=(12, 5))\n",
    "\n",
    "# Plotar o primeiro histograma na primeira subplot\n",
    "sns.histplot(data=df[df['company_size'] == 'small'], x='sales', bins=20, kde=True, ax=axes[0])\n",
    "axes[0].set_xlabel('Faturamento')\n",
    "axes[0].set_ylabel('Frequência')\n",
    "axes[0].set_title('Pequenas Empresas (< 100 mil euros)')\n",
    "\n",
    "# Plotar o segundo histograma na segunda subplot\n",
    "sns.histplot(data=df[df['company_size'] == 'large_medium'], x='sales', bins=20, kde=True, ax=axes[1])\n",
    "axes[1].set_xlabel('Faturamento')\n",
    "axes[1].set_ylabel('Frequência')\n",
    "axes[1].set_title('Médias e Grandes Empresas (> 100 mil euros)')\n",
    "\n",
    "# Ajustar o layout para evitar sobreposição\n",
    "plt.tight_layout()\n",
    "\n",
    "# Mostrar os gráficos\n",
    "plt.show()\n"
   ]
  },
  {
   "cell_type": "markdown",
   "id": "5236efbe-f8d7-43dd-b261-3a561abae754",
   "metadata": {},
   "source": [
    "Mesmo assim, a variável parece muito assimétrica. Para mitigar o problema, vamos aplicar calcular o logaritmo dessa variável."
   ]
  },
  {
   "cell_type": "code",
   "execution_count": null,
   "id": "3c5d25ff-057f-40b0-9dc7-1026b5ffbb91",
   "metadata": {},
   "outputs": [],
   "source": [
    "df['sales_log'] = df['sales'].apply(lambda x: np.log(x) if x > 0 else 0)"
   ]
  },
  {
   "cell_type": "markdown",
   "id": "12cd8129-5608-41df-a583-94f18a5f0894",
   "metadata": {},
   "source": [
    "Plotando o gráfico dessa variável, vemos que a distribuição ficou mais parecida com a normal, com alguma concentração de valores em ZERO (empresas que supostamente fecharam)."
   ]
  },
  {
   "cell_type": "code",
   "execution_count": null,
   "id": "605af138-9add-4493-a6ac-9762d13d77f4",
   "metadata": {},
   "outputs": [],
   "source": [
    "sns.histplot(data=df['sales_log'], bins=10)\n",
    "plt.xlabel('Logaritmo do Faturamento')\n",
    "plt.ylabel('Contagem')\n",
    "plt.title('Distribuição de Logaritmo do Faturamento')\n",
    "plt.show()"
   ]
  },
  {
   "cell_type": "markdown",
   "id": "ff5feab3-0e3a-40e1-852b-3042a3e24e54",
   "metadata": {},
   "source": [
    "Esse problema ocorre com as demais variáveis numéricas? Vamos usar boxplot para verificar a distribuição desses valores.\n",
    "Vamos criar um dataframe somente com as variáveis numéricas."
   ]
  },
  {
   "cell_type": "code",
   "execution_count": null,
   "id": "4fff27e0-fe14-4cec-9f45-d280a5555d43",
   "metadata": {},
   "outputs": [],
   "source": [
    "var_num = df.select_dtypes( include=['int64', 'float64'] )\n",
    "var_cat = df.select_dtypes( exclude=['int64', 'float64','datetime64[ns]'] )\n",
    "\n",
    "var_num.columns"
   ]
  },
  {
   "cell_type": "code",
   "execution_count": null,
   "id": "a25231bf-05c7-4ea2-9df8-492ce9aeac6f",
   "metadata": {},
   "outputs": [],
   "source": [
    "# fazendo boxplot de todas as variáveis numéricas para identificar as distribuições:\n",
    "\n",
    "colunas = var_num.columns\n",
    "\n",
    "# Configurações para a disposição dos subplots\n",
    "num_linhas = 5  \n",
    "num_colunas = 4  \n",
    "\n",
    "# Calcula o número total de figuras necessárias\n",
    "num_total_figuras = (len(colunas) // (num_linhas * num_colunas)) + 1\n",
    "\n",
    "# Tamanho da figura\n",
    "tamanho_figura = (18, 12)\n",
    "\n",
    "# Loop para criar cada figura com os boxplots\n",
    "for figura_num in range(num_total_figuras):\n",
    "    fig, axs = plt.subplots(num_linhas, num_colunas, figsize=tamanho_figura)\n",
    "    \n",
    "    # Colunas para esta figura\n",
    "    inicio_coluna = figura_num * num_linhas * num_colunas\n",
    "    fim_coluna = (figura_num + 1) * num_linhas * num_colunas\n",
    "    colunas_figura = colunas[inicio_coluna:fim_coluna]\n",
    "\n",
    "    # Iterar pelas colunas e criar os boxplots para esta figura\n",
    "    for i, coluna in enumerate(colunas_figura):\n",
    "        linha = i // num_colunas\n",
    "        col = i % num_colunas\n",
    "        sns.boxplot(x=var_num[coluna], ax=axs[linha, col], width=0.5)\n",
    "        axs[linha, col].set_title(coluna)\n",
    "        axs[linha, col].set_xticks([])  # Remove os rótulos do eixo x\n",
    "\n",
    "    # Ajustar o layout\n",
    "    plt.tight_layout()\n",
    "\n",
    "    # Exibir a figura\n",
    "    plt.show()"
   ]
  },
  {
   "cell_type": "code",
   "execution_count": null,
   "id": "7f3afbd6-8ed9-4f49-ba68-a45cff267123",
   "metadata": {},
   "outputs": [],
   "source": [
    "df_flavio = df[['material_exp', 'personnel_exp','profit_loss_year', 'sales', 'share_eq', 'labor_avg']]"
   ]
  },
  {
   "cell_type": "code",
   "execution_count": null,
   "id": "0e3bdd33-50ff-4afd-9236-ca3c7856cce0",
   "metadata": {},
   "outputs": [],
   "source": [
    "df_flavio.describe()"
   ]
  },
  {
   "cell_type": "code",
   "execution_count": null,
   "id": "bc3b8f73-0550-4417-9ac9-7499c6674947",
   "metadata": {},
   "outputs": [],
   "source": [
    "df['sales_log'] = df['sales'].apply(lambda x: np.log(x) if x > 0 else 0)"
   ]
  },
  {
   "cell_type": "code",
   "execution_count": null,
   "id": "f8855686-594c-41f6-a139-d4c117260643",
   "metadata": {},
   "outputs": [],
   "source": [
    "df = df.drop(['begin', 'end', 'year', 'founded_year', 'balsheet_flag', 'balsheet_length', 'balsheet_notfullyear',\n",
    "              \"ceo_count\", \"birth_year\", \"inoffice_days\", 'sales_log','founded_date'  ], axis=1)"
   ]
  },
  {
   "cell_type": "code",
   "execution_count": null,
   "id": "51717f4a-cc42-42c5-89a3-6bced1ae6407",
   "metadata": {},
   "outputs": [],
   "source": [
    "df.shape"
   ]
  },
  {
   "cell_type": "code",
   "execution_count": null,
   "id": "6b6be2aa-53ac-4059-a1de-efb59dfee8bb",
   "metadata": {},
   "outputs": [],
   "source": [
    "df.to_csv('dados_bisnode.csv', index=False)"
   ]
  },
  {
   "cell_type": "code",
   "execution_count": null,
   "id": "4d608061",
   "metadata": {
    "scrolled": true
   },
   "outputs": [
    {
     "data": {
      "application/vnd.jupyter.widget-view+json": {
       "model_id": "3ca48ecf2e4d40f0ac3634721cb79a17",
       "version_major": 2,
       "version_minor": 0
      },
      "text/plain": [
       "Summarize dataset:   0%|          | 0/5 [00:00<?, ?it/s]"
      ]
     },
     "metadata": {},
     "output_type": "display_data"
    }
   ],
   "source": [
    "profile = ProfileReport(df, title='Analise Exploratoria do Projeto Integrador')\n",
    "profile.to_file(output_file=\"analise_projeto_integrador.html\")"
   ]
  },
  {
   "cell_type": "code",
   "execution_count": 83,
   "id": "2f82679a",
   "metadata": {},
   "outputs": [
    {
     "data": {
      "text/html": [
       "<iframe src=\"analise_projeto_integrador.html\" width=\"100%\" height=\"800px\"></iframe>\n"
      ],
      "text/plain": [
       "<IPython.core.display.HTML object>"
      ]
     },
     "metadata": {},
     "output_type": "display_data"
    }
   ],
   "source": [
    "%%html\n",
    "<iframe src=\"analise_projeto_integrador.html\" width=\"100%\" height=\"800px\"></iframe>"
   ]
  },
  {
   "cell_type": "markdown",
   "id": "07272222",
   "metadata": {},
   "source": [
    "# Proximos passos\n",
    "\n",
    "## Qualidade\n",
    "ver as inconsistencias (valores negativos etc) das variaveis  e aplicar o log para variáveis assimétricas\n"
   ]
  }
 ],
 "metadata": {
  "kernelspec": {
   "display_name": "Python 3 (ipykernel)",
   "language": "python",
   "name": "python3"
  },
  "language_info": {
   "codemirror_mode": {
    "name": "ipython",
    "version": 3
   },
   "file_extension": ".py",
   "mimetype": "text/x-python",
   "name": "python",
   "nbconvert_exporter": "python",
   "pygments_lexer": "ipython3",
   "version": "3.11.3"
  }
 },
 "nbformat": 4,
 "nbformat_minor": 5
}
